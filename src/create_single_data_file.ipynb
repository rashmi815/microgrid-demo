{
 "cells": [
  {
   "cell_type": "code",
   "execution_count": 59,
   "metadata": {
    "collapsed": false
   },
   "outputs": [],
   "source": [
    "import numpy as np\n",
    "from os import listdir\n",
    "from os.path import isfile, join\n",
    "import csv\n",
    "import matplotlib\n",
    "from matplotlib import pyplot as plt\n",
    "import seaborn as sns\n",
    "%matplotlib inline\n",
    "import pandas as pd"
   ]
  },
  {
   "cell_type": "code",
   "execution_count": 2,
   "metadata": {
    "collapsed": false
   },
   "outputs": [
    {
     "name": "stdout",
     "output_type": "stream",
     "text": [
      "['2011-04-02-b1002.csv', '2011-04-02-b1005.csv']\n",
      "['2011-04-02-b997.csv', 'FORMAT']\n"
     ]
    }
   ],
   "source": [
    "mypath = './microgrid/'\n",
    "onlyfiles = [f for f in listdir(mypath) if isfile(join(mypath, f))]\n",
    "print(onlyfiles[0:2])\n",
    "print(onlyfiles[len(onlyfiles)-2:len(onlyfiles)])"
   ]
  },
  {
   "cell_type": "code",
   "execution_count": 3,
   "metadata": {
    "collapsed": false
   },
   "outputs": [
    {
     "name": "stdout",
     "output_type": "stream",
     "text": [
      "444\n",
      "443\n"
     ]
    }
   ],
   "source": [
    "onlycsv = onlyfiles[0:len(onlyfiles)-1]\n",
    "print(len(onlyfiles))\n",
    "print(len(onlycsv))"
   ]
  },
  {
   "cell_type": "code",
   "execution_count": 4,
   "metadata": {
    "collapsed": false
   },
   "outputs": [
    {
     "name": "stdout",
     "output_type": "stream",
     "text": [
      "2011-04-02-b1002\n"
     ]
    }
   ],
   "source": [
    "onlycsv_noextn = onlycsv[0].rstrip('.csv')\n",
    "print(onlycsv_noextn)"
   ]
  },
  {
   "cell_type": "code",
   "execution_count": 5,
   "metadata": {
    "collapsed": false
   },
   "outputs": [
    {
     "name": "stdout",
     "output_type": "stream",
     "text": [
      "['2011-04-02-b1002', '2011-04-02-b1005']\n"
     ]
    }
   ],
   "source": [
    "onlycsv_noextn = list(map(lambda x: x.rstrip('.csv'),onlycsv))\n",
    "print(onlycsv_noextn[0:2])"
   ]
  },
  {
   "cell_type": "code",
   "execution_count": 6,
   "metadata": {
    "collapsed": false
   },
   "outputs": [
    {
     "name": "stdout",
     "output_type": "stream",
     "text": [
      "[1002, 1005]\n"
     ]
    }
   ],
   "source": [
    "bldgnum = list(map(lambda x: int(x[12:len(x)]),onlycsv_noextn))\n",
    "print(bldgnum[0:2])"
   ]
  },
  {
   "cell_type": "code",
   "execution_count": 61,
   "metadata": {
    "collapsed": false
   },
   "outputs": [
    {
     "name": "stdout",
     "output_type": "stream",
     "text": [
      "443\n"
     ]
    }
   ],
   "source": [
    "print(len(bldgnum))"
   ]
  },
  {
   "cell_type": "code",
   "execution_count": 92,
   "metadata": {
    "collapsed": false
   },
   "outputs": [
    {
     "name": "stdout",
     "output_type": "stream",
     "text": [
      "1440.0\n",
      "1440.0\n",
      "1440.0\n",
      "1440.0\n",
      "1440.0\n",
      "1440.0\n",
      "1440.0\n",
      "1440.0\n",
      "1440.0\n",
      "1440.0\n",
      "1440.0\n",
      "1440.0\n",
      "1440.0\n",
      "1440.0\n",
      "1440.0\n",
      "1440.0\n",
      "1440.0\n",
      "1440.0\n",
      "1440.0\n",
      "1440.0\n",
      "1440.0\n",
      "1440.0\n",
      "1440.0\n",
      "1440.0\n",
      "1440.0\n",
      "1440.0\n",
      "1440.0\n",
      "1440.0\n",
      "1440.0\n",
      "1440.0\n",
      "1440.0\n",
      "1440.0\n",
      "1440.0\n",
      "1440.0\n",
      "1440.0\n"
     ]
    },
    {
     "name": "stderr",
     "output_type": "stream",
     "text": [
      "/Users/rraghu/anaconda/envs/py3k/lib/python3.5/site-packages/ipykernel/__main__.py:10: VisibleDeprecationWarning: using a non-integer number instead of an integer will result in an error in the future\n",
      "/Users/rraghu/anaconda/envs/py3k/lib/python3.5/site-packages/numpy/core/numeric.py:190: VisibleDeprecationWarning: using a non-integer number instead of an integer will result in an error in the future\n",
      "  a = empty(shape, dtype, order)\n"
     ]
    },
    {
     "name": "stdout",
     "output_type": "stream",
     "text": [
      "1440.0\n",
      "1440.0\n",
      "1440.0\n",
      "1440.0\n",
      "1440.0\n",
      "1440.0\n",
      "1440.0\n",
      "1440.0\n",
      "1440.0\n",
      "1440.0\n",
      "1440.0\n",
      "1440.0\n",
      "1440.0\n",
      "1440.0\n",
      "1440.0\n",
      "1440.0\n",
      "1440.0\n",
      "1440.0\n",
      "1440.0\n",
      "1440.0\n",
      "1440.0\n",
      "1440.0\n",
      "1440.0\n",
      "1440.0\n",
      "1440.0\n",
      "1440.0\n",
      "1440.0\n",
      "1440.0\n",
      "1440.0\n",
      "1440.0\n",
      "1440.0\n",
      "1440.0\n",
      "1440.0\n",
      "1440.0\n",
      "1440.0\n",
      "1440.0\n",
      "1440.0\n",
      "1440.0\n",
      "1440.0\n",
      "1440.0\n",
      "1440.0\n",
      "1440.0\n",
      "1440.0\n",
      "1440.0\n",
      "1440.0\n",
      "1440.0\n",
      "1440.0\n",
      "1440.0\n",
      "1440.0\n",
      "1440.0\n",
      "1440.0\n",
      "1440.0\n",
      "1440.0\n",
      "1440.0\n",
      "1440.0\n",
      "1440.0\n",
      "1440.0\n",
      "1440.0\n",
      "1440.0\n",
      "1440.0\n",
      "1440.0\n",
      "1440.0\n",
      "1440.0\n",
      "1440.0\n",
      "1440.0\n",
      "1440.0\n",
      "1440.0\n",
      "1440.0\n",
      "1440.0\n",
      "1440.0\n",
      "1440.0\n",
      "1440.0\n",
      "1440.0\n",
      "1440.0\n",
      "1440.0\n",
      "1440.0\n",
      "1440.0\n",
      "1440.0\n",
      "1440.0\n",
      "1440.0\n",
      "1440.0\n",
      "1440.0\n",
      "1440.0\n",
      "1440.0\n",
      "1440.0\n",
      "1440.0\n",
      "1440.0\n",
      "1440.0\n",
      "1440.0\n",
      "1440.0\n",
      "1440.0\n",
      "1440.0\n",
      "1440.0\n",
      "1440.0\n",
      "1440.0\n",
      "1440.0\n",
      "1440.0\n",
      "1440.0\n",
      "1440.0\n",
      "1440.0\n",
      "1440.0\n",
      "1440.0\n",
      "1440.0\n",
      "1440.0\n",
      "1440.0\n",
      "1440.0\n",
      "1440.0\n",
      "1440.0\n",
      "1440.0\n",
      "1440.0\n",
      "1440.0\n",
      "1440.0\n",
      "1440.0\n",
      "1440.0\n",
      "1440.0\n",
      "1440.0\n",
      "1440.0\n",
      "1440.0\n",
      "1440.0\n",
      "1440.0\n",
      "1440.0\n",
      "1440.0\n",
      "1440.0\n",
      "1440.0\n",
      "1440.0\n",
      "1440.0\n",
      "1440.0\n",
      "1440.0\n",
      "1440.0\n",
      "1440.0\n",
      "1440.0\n",
      "1440.0\n",
      "1440.0\n",
      "1440.0\n",
      "1440.0\n",
      "1440.0\n",
      "1440.0\n",
      "1440.0\n",
      "1440.0\n",
      "1440.0\n",
      "1440.0\n",
      "1440.0\n",
      "1440.0\n",
      "1440.0\n",
      "1440.0\n",
      "1440.0\n",
      "1440.0\n",
      "1440.0\n",
      "1440.0\n",
      "1440.0\n",
      "1440.0\n",
      "1440.0\n",
      "1440.0\n",
      "1440.0\n",
      "1440.0\n",
      "1440.0\n",
      "1440.0\n",
      "1440.0\n",
      "1440.0\n",
      "1440.0\n",
      "1440.0\n",
      "1440.0\n",
      "1440.0\n",
      "1440.0\n",
      "1440.0\n",
      "1440.0\n",
      "1440.0\n",
      "1440.0\n",
      "1440.0\n",
      "1440.0\n",
      "1440.0\n",
      "1440.0\n",
      "1440.0\n",
      "1440.0\n",
      "1440.0\n",
      "1440.0\n",
      "1440.0\n",
      "1440.0\n",
      "1440.0\n",
      "1440.0\n",
      "1440.0\n",
      "1440.0\n",
      "1440.0\n",
      "1440.0\n",
      "1440.0\n",
      "1440.0\n",
      "1440.0\n",
      "1440.0\n",
      "1440.0\n",
      "1440.0\n",
      "1440.0\n",
      "1440.0\n",
      "1440.0\n",
      "1440.0\n",
      "1440.0\n",
      "1440.0\n",
      "1440.0\n",
      "1440.0\n",
      "1440.0\n",
      "1440.0\n",
      "1440.0\n",
      "1440.0\n",
      "1440.0\n",
      "1440.0\n",
      "1440.0\n",
      "1440.0\n",
      "1440.0\n",
      "1440.0\n",
      "1440.0\n",
      "1440.0\n",
      "1440.0\n",
      "1440.0\n",
      "1440.0\n",
      "1440.0\n",
      "1440.0\n",
      "1440.0\n",
      "1440.0\n",
      "1440.0\n",
      "1440.0\n",
      "1440.0\n",
      "1440.0\n",
      "1440.0\n",
      "1440.0\n",
      "1440.0\n",
      "1440.0\n",
      "1440.0\n",
      "1440.0\n",
      "1440.0\n",
      "1440.0\n",
      "1440.0\n",
      "1440.0\n",
      "1440.0\n",
      "1440.0\n",
      "1440.0\n",
      "1440.0\n",
      "1440.0\n",
      "1440.0\n",
      "1440.0\n",
      "1440.0\n",
      "1440.0\n",
      "1440.0\n",
      "1440.0\n",
      "1440.0\n",
      "1440.0\n",
      "1440.0\n",
      "1440.0\n",
      "1440.0\n",
      "1440.0\n",
      "1440.0\n",
      "1440.0\n",
      "1440.0\n",
      "1440.0\n",
      "1440.0\n",
      "1440.0\n",
      "1440.0\n",
      "1440.0\n",
      "1440.0\n",
      "1440.0\n",
      "1440.0\n",
      "1440.0\n",
      "1440.0\n",
      "1440.0\n",
      "1440.0\n",
      "1440.0\n",
      "1440.0\n",
      "1440.0\n",
      "1440.0\n",
      "1440.0\n",
      "1440.0\n",
      "1440.0\n",
      "1440.0\n",
      "1440.0\n",
      "1440.0\n",
      "1440.0\n",
      "1440.0\n",
      "1440.0\n",
      "1440.0\n",
      "1440.0\n",
      "1440.0\n",
      "1440.0\n",
      "1440.0\n",
      "1440.0\n",
      "1440.0\n",
      "1440.0\n",
      "1440.0\n",
      "1440.0\n",
      "1440.0\n",
      "1440.0\n",
      "1440.0\n",
      "1440.0\n",
      "1440.0\n",
      "1440.0\n",
      "1440.0\n",
      "1440.0\n",
      "1440.0\n",
      "1440.0\n",
      "1440.0\n",
      "1440.0\n",
      "1440.0\n",
      "1440.0\n",
      "1440.0\n",
      "1440.0\n",
      "1440.0\n",
      "1440.0\n",
      "1440.0\n",
      "1440.0\n",
      "1440.0\n",
      "1440.0\n",
      "1440.0\n",
      "1440.0\n",
      "1440.0\n",
      "1440.0\n",
      "1440.0\n",
      "1440.0\n",
      "1440.0\n",
      "1440.0\n",
      "1440.0\n",
      "1440.0\n",
      "1440.0\n",
      "1440.0\n",
      "1440.0\n",
      "1440.0\n",
      "1440.0\n",
      "1440.0\n",
      "1440.0\n",
      "1440.0\n",
      "1440.0\n",
      "1440.0\n",
      "1440.0\n",
      "1440.0\n",
      "1440.0\n",
      "1440.0\n",
      "1440.0\n",
      "1440.0\n",
      "1440.0\n",
      "1440.0\n",
      "1440.0\n",
      "1440.0\n",
      "1440.0\n",
      "1440.0\n",
      "1440.0\n",
      "1440.0\n",
      "1440.0\n",
      "1440.0\n",
      "1440.0\n",
      "1440.0\n",
      "1440.0\n",
      "1440.0\n",
      "1440.0\n",
      "1440.0\n",
      "1046.0\n",
      "1440.0\n",
      "1440.0\n",
      "1440.0\n",
      "1440.0\n",
      "1440.0\n",
      "1440.0\n",
      "1440.0\n",
      "1440.0\n",
      "1440.0\n",
      "1440.0\n",
      "1440.0\n",
      "1440.0\n",
      "1440.0\n",
      "1440.0\n",
      "1440.0\n",
      "1440.0\n",
      "1440.0\n",
      "1440.0\n",
      "1440.0\n",
      "1440.0\n",
      "1440.0\n",
      "1440.0\n",
      "1440.0\n",
      "1440.0\n",
      "1440.0\n",
      "1440.0\n",
      "1440.0\n",
      "1440.0\n",
      "1440.0\n",
      "1440.0\n",
      "1440.0\n",
      "1440.0\n",
      "1440.0\n",
      "1440.0\n",
      "1440.0\n",
      "1440.0\n",
      "1440.0\n",
      "1440.0\n",
      "1440.0\n",
      "1440.0\n",
      "1440.0\n",
      "1440.0\n",
      "1440.0\n",
      "1440.0\n",
      "1440.0\n",
      "1440.0\n",
      "1440.0\n",
      "1440.0\n",
      "1440.0\n",
      "1440.0\n",
      "1440.0\n",
      "1440.0\n",
      "1440.0\n",
      "1440.0\n",
      "1440.0\n",
      "1440.0\n",
      "1440.0\n",
      "(637526, 3)\n",
      "[[  1.00200000e+03   1.30178874e+09  -0.00000000e+00]\n",
      " [  1.00200000e+03   1.30178868e+09  -0.00000000e+00]\n",
      " [  1.00200000e+03   1.30178862e+09  -0.00000000e+00]\n",
      " ..., \n",
      " [  9.97000000e+02   1.30170252e+09  -0.00000000e+00]\n",
      " [  9.97000000e+02   1.30170246e+09  -0.00000000e+00]\n",
      " [  9.97000000e+02   1.30170240e+09  -0.00000000e+00]]\n"
     ]
    }
   ],
   "source": [
    "content_bldg_all = np.empty([1,3])\n",
    "nrows = np.zeros([len(bldgnum)])\n",
    "for k in range(0,len(bldgnum)):\n",
    "    content = ''\n",
    "    with open('./microgrid/'+onlycsv[k], newline='') as csvfile:\n",
    "        reader = csv.reader(csvfile,quoting=csv.QUOTE_NONNUMERIC)\n",
    "        for row in reader:\n",
    "            nrows[k] = nrows[k]+1\n",
    "        print(nrows[k])\n",
    "    content = np.zeros([nrows[k],2])\n",
    "    m = 0\n",
    "    with open('./microgrid/'+onlycsv[k], newline='') as csvfile:\n",
    "        reader = csv.reader(csvfile,quoting=csv.QUOTE_NONNUMERIC)\n",
    "        for row in reader:\n",
    "            content[m,0] = int(row[0])\n",
    "            content[m,1] = row[1]\n",
    "            m = m+1\n",
    "    content_bldg = np.hstack((np.ones([nrows[k],1])*bldgnum[k], content))\n",
    "    content_bldg_all = np.vstack((content_bldg_all,content_bldg))\n",
    "content_bldg_all = content_bldg_all[1:(content_bldg_all.shape[0]),:]\n",
    "print(content_bldg_all.shape)\n",
    "print(content_bldg_all)"
   ]
  },
  {
   "cell_type": "code",
   "execution_count": 66,
   "metadata": {
    "collapsed": false
   },
   "outputs": [
    {
     "name": "stdout",
     "output_type": "stream",
     "text": [
      "<class 'pandas.core.frame.DataFrame'>\n"
     ]
    }
   ],
   "source": [
    "dfc = pd.DataFrame(content_bldg_all, columns=['bnum','tslocal','usagekw'])\n",
    "print(type(dfc))"
   ]
  },
  {
   "cell_type": "code",
   "execution_count": 67,
   "metadata": {
    "collapsed": true
   },
   "outputs": [],
   "source": [
    "sns.set_palette(\"husl\")"
   ]
  },
  {
   "cell_type": "code",
   "execution_count": 78,
   "metadata": {
    "collapsed": false
   },
   "outputs": [
    {
     "data": {
      "image/png": "[encoded data removed]",
      "text/plain": [
       "<matplotlib.figure.Figure at 0x1152b0780>"
      ]
     },
     "metadata": {},
     "output_type": "display_data"
    }
   ],
   "source": [
    "for i in range(400,443):\n",
    "    plt.plot(dfc.tslocal[dfc.bnum==bldgnum[i]],dfc.usagekw[dfc.bnum==bldgnum[i]], lw=1.0)"
   ]
  },
  {
   "cell_type": "code",
   "execution_count": 95,
   "metadata": {
    "collapsed": false
   },
   "outputs": [],
   "source": [
    "with open('microgrid_all.csv', 'w', newline='') as csvfile:\n",
    "    writer = csv.writer(csvfile, delimiter=',',\n",
    "                            quotechar='|', quoting=csv.QUOTE_MINIMAL)\n",
    "    k = 0\n",
    "    for i in range(0,len(bldgnum)):\n",
    "        for j in range(k,int(k+nrows[i])):\n",
    "            writer.writerow(dfc.iloc[j])\n",
    "        k = j+1"
   ]
  },
  {
   "cell_type": "code",
   "execution_count": 91,
   "metadata": {
    "collapsed": false
   },
   "outputs": [
    {
     "data": {
      "text/plain": [
       "array([ 1440.,  1440.,  1440.,  1440.,  1440.,  1440.,  1440.,  1440.,\n",
       "        1440.,  1440.,  1440.,  1440.,  1440.,  1440.,  1440.,  1440.,\n",
       "        1440.,  1440.,  1440.,  1440.,  1440.,  1440.,  1440.,  1440.,\n",
       "        1440.,  1440.,  1440.,  1440.,  1440.,  1440.,  1440.,  1440.,\n",
       "        1440.,  1440.,  1440.,  1440.,  1440.,  1440.,  1440.,  1440.,\n",
       "        1440.,  1440.,  1440.,  1440.,  1440.,  1440.,  1440.,  1440.,\n",
       "        1440.,  1440.,  1440.,  1440.,  1440.,  1440.,  1440.,  1440.,\n",
       "        1440.,  1440.,  1440.,  1440.,  1440.,  1440.,  1440.,  1440.,\n",
       "        1440.,  1440.,  1440.,  1440.,  1440.,  1440.,  1440.,  1440.,\n",
       "        1440.,  1440.,  1440.,  1440.,  1440.,  1440.,  1440.,  1440.,\n",
       "        1440.,  1440.,  1440.,  1440.,  1440.,  1440.,  1440.,  1440.,\n",
       "        1440.,  1440.,  1440.,  1440.,  1440.,  1440.,  1440.,  1440.,\n",
       "        1440.,  1440.,  1440.,  1440.,  1440.,  1440.,  1440.,  1440.,\n",
       "        1440.,  1440.,  1440.,  1440.,  1440.,  1440.,  1440.,  1440.,\n",
       "        1440.,  1440.,  1440.,  1440.,  1440.,  1440.,  1440.,  1440.,\n",
       "        1440.,  1440.,  1440.,  1440.,  1440.,  1440.,  1440.,  1440.,\n",
       "        1440.,  1440.,  1440.,  1440.,  1440.,  1440.,  1440.,  1440.,\n",
       "        1440.,  1440.,  1440.,  1440.,  1440.,  1440.,  1440.,  1440.,\n",
       "        1440.,  1440.,  1440.,  1440.,  1440.,  1440.,  1440.,  1440.,\n",
       "        1440.,  1440.,  1440.,  1440.,  1440.,  1440.,  1440.,  1440.,\n",
       "        1440.,  1440.,  1440.,  1440.,  1440.,  1440.,  1440.,  1440.,\n",
       "        1440.,  1440.,  1440.,  1440.,  1440.,  1440.,  1440.,  1440.,\n",
       "        1440.,  1440.,  1440.,  1440.,  1440.,  1440.,  1440.,  1440.,\n",
       "        1440.,  1440.,  1440.,  1440.,  1440.,  1440.,  1440.,  1440.,\n",
       "        1440.,  1440.,  1440.,  1440.,  1440.,  1440.,  1440.,  1440.,\n",
       "        1440.,  1440.,  1440.,  1440.,  1440.,  1440.,  1440.,  1440.,\n",
       "        1440.,  1440.,  1440.,  1440.,  1440.,  1440.,  1440.,  1440.,\n",
       "        1440.,  1440.,  1440.,  1440.,  1440.,  1440.,  1440.,  1440.,\n",
       "        1440.,  1440.,  1440.,  1440.,  1440.,  1440.,  1440.,  1440.,\n",
       "        1440.,  1440.,  1440.,  1440.,  1440.,  1440.,  1440.,  1440.,\n",
       "        1440.,  1440.,  1440.,  1440.,  1440.,  1440.,  1440.,  1440.,\n",
       "        1440.,  1440.,  1440.,  1440.,  1440.,  1440.,  1440.,  1440.,\n",
       "        1440.,  1440.,  1440.,  1440.,  1440.,  1440.,  1440.,  1440.,\n",
       "        1440.,  1440.,  1440.,  1440.,  1440.,  1440.,  1440.,  1440.,\n",
       "        1440.,  1440.,  1440.,  1440.,  1440.,  1440.,  1440.,  1440.,\n",
       "        1440.,  1440.,  1440.,  1440.,  1440.,  1440.,  1440.,  1440.,\n",
       "        1440.,  1440.,  1440.,  1440.,  1440.,  1440.,  1440.,  1440.,\n",
       "        1440.,  1440.,  1440.,  1440.,  1440.,  1440.,  1440.,  1440.,\n",
       "        1440.,  1440.,  1440.,  1440.,  1440.,  1440.,  1440.,  1440.,\n",
       "        1440.,  1440.,  1440.,  1440.,  1440.,  1440.,  1440.,  1440.,\n",
       "        1440.,  1440.,  1440.,  1440.,  1440.,  1440.,  1440.,  1440.,\n",
       "        1440.,  1440.,  1440.,  1440.,  1440.,  1440.,  1440.,  1440.,\n",
       "        1440.,  1440.,  1440.,  1440.,  1440.,  1440.,  1440.,  1440.,\n",
       "        1440.,  1440.,  1440.,  1440.,  1440.,  1440.,  1440.,  1440.,\n",
       "        1440.,  1440.,  1440.,  1440.,  1440.,  1440.,  1440.,  1440.,\n",
       "        1440.,  1440.,  1440.,  1440.,  1440.,  1440.,  1440.,  1440.,\n",
       "        1440.,  1440.,  1440.,  1440.,  1440.,  1440.,  1440.,  1440.,\n",
       "        1440.,  1440.,  1440.,  1440.,  1440.,  1440.,  1440.,  1440.,\n",
       "        1440.,  1440.,  1440.,  1440.,  1440.,  1440.,  1440.,  1440.,\n",
       "        1440.,  1440.,  1440.,  1440.,  1440.,  1440.,  1440.,  1440.,\n",
       "        1440.,  1440.,  1440.,  1440.,  1440.,  1440.,  1440.,  1440.,\n",
       "        1440.,  1440.,  1440.,  1440.,  1440.,  1440.,  1440.,  1440.,\n",
       "        1440.,  1440.,  1440.,  1440.,  1440.,  1440.,  1440.,  1440.,\n",
       "        1440.,  1440.,  1440.,  1440.,  1440.,  1440.,  1440.,  1440.,\n",
       "        1440.,  1440.,  1440.,  1440.,  1440.,  1440.,  1440.,  1440.,\n",
       "        1440.,  1440.,  1440.])"
      ]
     },
     "execution_count": 91,
     "metadata": {},
     "output_type": "execute_result"
    }
   ],
   "source": [
    "nrows[0,:]"
   ]
  },
  {
   "cell_type": "code",
   "execution_count": null,
   "metadata": {
    "collapsed": true
   },
   "outputs": [],
   "source": []
  }
 ],
 "metadata": {
  "anaconda-cloud": {},
  "kernelspec": {
   "display_name": "Python [conda env:py3k]",
   "language": "python",
   "name": "conda-env-py3k-py"
  },
  "language_info": {
   "codemirror_mode": {
    "name": "ipython",
    "version": 3
   },
   "file_extension": ".py",
   "mimetype": "text/x-python",
   "name": "python",
   "nbconvert_exporter": "python",
   "pygments_lexer": "ipython3",
   "version": "3.5.2"
  }
 },
 "nbformat": 4,
 "nbformat_minor": 1
}
